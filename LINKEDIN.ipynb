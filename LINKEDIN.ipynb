{
 "cells": [
  {
   "cell_type": "markdown",
   "id": "fa1a146b",
   "metadata": {},
   "source": [
    "# Linkedin Analysis"
   ]
  },
  {
   "cell_type": "markdown",
   "id": "a5374c5b",
   "metadata": {},
   "source": [
    "#### The data is about jobs posted on Linkedin for few months in 2022. \n",
    "Data link `https://www.kaggle.com/datasets/cedricaubin/linkedin-data-analyst-jobs-listings`"
   ]
  },
  {
   "cell_type": "markdown",
   "id": "b539e095",
   "metadata": {},
   "source": [
    "### Loading packages and files"
   ]
  },
  {
   "cell_type": "code",
   "execution_count": 51,
   "id": "281af7bd",
   "metadata": {},
   "outputs": [],
   "source": [
    "#loading packages \n",
    "import pandas as pd \n",
    "import numpy as np\n",
    "import seaborn as sns\n",
    "import matplotlib.pyplot as plt\n",
    "%matplotlib inline"
   ]
  },
  {
   "cell_type": "code",
   "execution_count": 52,
   "id": "e04e56b2",
   "metadata": {},
   "outputs": [],
   "source": [
    "#loading the three files\n",
    "df_afr = pd.read_csv('linkedin-jobs-africa.csv')\n",
    "df_usa = pd.read_csv('linkedin-jobs-usa.csv')\n",
    "df_can = pd.read_csv('linkedin-jobs-canada.csv')"
   ]
  },
  {
   "cell_type": "code",
   "execution_count": 53,
   "id": "cb37dba2",
   "metadata": {},
   "outputs": [],
   "source": [
    "# Adding region column for each file \n",
    "df_afr['region'] = 'Africa'\n",
    "df_usa['region'] = 'USA'\n",
    "df_can['region'] = 'Canada'"
   ]
  },
  {
   "cell_type": "code",
   "execution_count": 54,
   "id": "541875d9",
   "metadata": {},
   "outputs": [],
   "source": [
    "# Combining the 3 regions in 1 dataframe\n",
    "df = pd.concat([df_afr,df_usa,df_can],ignore_index = True)"
   ]
  },
  {
   "cell_type": "code",
   "execution_count": 55,
   "id": "ec36567e",
   "metadata": {},
   "outputs": [
    {
     "name": "stdout",
     "output_type": "stream",
     "text": [
      "<class 'pandas.core.frame.DataFrame'>\n",
      "RangeIndex: 8490 entries, 0 to 8489\n",
      "Data columns (total 10 columns):\n",
      " #   Column         Non-Null Count  Dtype \n",
      "---  ------         --------------  ----- \n",
      " 0   title          8490 non-null   object\n",
      " 1   company        8490 non-null   object\n",
      " 2   description    8490 non-null   object\n",
      " 3   onsite_remote  8490 non-null   object\n",
      " 4   salary         965 non-null    object\n",
      " 5   location       8490 non-null   object\n",
      " 6   criteria       8490 non-null   object\n",
      " 7   posted_date    8490 non-null   object\n",
      " 8   link           8490 non-null   object\n",
      " 9   region         8490 non-null   object\n",
      "dtypes: object(10)\n",
      "memory usage: 663.4+ KB\n"
     ]
    }
   ],
   "source": [
    "#checking the columns and missing values\n",
    "df.info()"
   ]
  },
  {
   "cell_type": "markdown",
   "id": "8a324e09",
   "metadata": {},
   "source": [
    "### Sorting the nested text column"
   ]
  },
  {
   "cell_type": "code",
   "execution_count": 56,
   "id": "31ba1990",
   "metadata": {},
   "outputs": [
    {
     "data": {
      "text/plain": [
       "\"[{'Seniority level': 'Not Applicable'}, {'Employment type': 'Full-time'}, {'Job function': 'Analyst'}, {'Industries': 'Technology, Information and Internet'}]\""
      ]
     },
     "execution_count": 56,
     "metadata": {},
     "output_type": "execute_result"
    }
   ],
   "source": [
    "#exploring the nested data in criteria column\n",
    "df.criteria[2]"
   ]
  },
  {
   "cell_type": "code",
   "execution_count": 57,
   "id": "2bdf11f7",
   "metadata": {},
   "outputs": [],
   "source": [
    "#exporting the data as dictionary\n",
    "import json\n",
    "import ast\n",
    "df['criteria'] = df['criteria'].apply(lambda x: ast.literal_eval(str(x)))"
   ]
  },
  {
   "cell_type": "code",
   "execution_count": 58,
   "id": "61e401eb",
   "metadata": {},
   "outputs": [
    {
     "data": {
      "text/plain": [
       "{'Industries': 'Financial Services'}"
      ]
     },
     "execution_count": 58,
     "metadata": {},
     "output_type": "execute_result"
    }
   ],
   "source": [
    "df.iloc[1,6][3]"
   ]
  },
  {
   "cell_type": "code",
   "execution_count": 59,
   "id": "7f43a7b3",
   "metadata": {},
   "outputs": [],
   "source": [
    "# dividing the dictionary into 3 lists\n",
    "list1 = []\n",
    "list2 = [] \n",
    "list3 = [] \n",
    "list4 = []\n",
    "for i in range(len(df)):\n",
    "    try:\n",
    "        list1.append(list(df.iloc[i,6][0].values()))\n",
    "        list2.append(list(df.iloc[i,6][1].values()))\n",
    "        list3.append(list(df.iloc[i,6][2].values()))\n",
    "        list4.append(list(df.iloc[i,6][3].values()))\n",
    "    except:\n",
    "        pass "
   ]
  },
  {
   "cell_type": "code",
   "execution_count": 60,
   "id": "2eda4b70",
   "metadata": {},
   "outputs": [],
   "source": [
    "# comibine the lists into one dataframe\n",
    "lists = pd.concat([pd.DataFrame(list1),pd.DataFrame(list2),pd.DataFrame(list3)],ignore_index=True,axis=1)\n",
    "lists.columns = ['level','contract','field']"
   ]
  },
  {
   "cell_type": "code",
   "execution_count": 61,
   "id": "0db978ab",
   "metadata": {
    "scrolled": true
   },
   "outputs": [],
   "source": [
    "#removing the nested column and replace it with the new 3 columns \n",
    "df = pd.concat([df.drop(['link','criteria'], axis=1),lists],axis=1)"
   ]
  },
  {
   "cell_type": "code",
   "execution_count": 62,
   "id": "25d72afb",
   "metadata": {
    "scrolled": true
   },
   "outputs": [
    {
     "data": {
      "text/html": [
       "<div>\n",
       "<style scoped>\n",
       "    .dataframe tbody tr th:only-of-type {\n",
       "        vertical-align: middle;\n",
       "    }\n",
       "\n",
       "    .dataframe tbody tr th {\n",
       "        vertical-align: top;\n",
       "    }\n",
       "\n",
       "    .dataframe thead th {\n",
       "        text-align: right;\n",
       "    }\n",
       "</style>\n",
       "<table border=\"1\" class=\"dataframe\">\n",
       "  <thead>\n",
       "    <tr style=\"text-align: right;\">\n",
       "      <th></th>\n",
       "      <th>title</th>\n",
       "      <th>company</th>\n",
       "      <th>description</th>\n",
       "      <th>onsite_remote</th>\n",
       "      <th>salary</th>\n",
       "      <th>location</th>\n",
       "      <th>posted_date</th>\n",
       "      <th>region</th>\n",
       "      <th>level</th>\n",
       "      <th>contract</th>\n",
       "      <th>field</th>\n",
       "    </tr>\n",
       "  </thead>\n",
       "  <tbody>\n",
       "    <tr>\n",
       "      <th>0</th>\n",
       "      <td>Data Analyst</td>\n",
       "      <td>NNC</td>\n",
       "      <td>We are looking for a passionate certified Data...</td>\n",
       "      <td>onsite</td>\n",
       "      <td>NaN</td>\n",
       "      <td>Cairo, Cairo, Egypt</td>\n",
       "      <td>2022-11-18</td>\n",
       "      <td>Africa</td>\n",
       "      <td>غير مطبق</td>\n",
       "      <td>دوام كامل</td>\n",
       "      <td>محلل</td>\n",
       "    </tr>\n",
       "    <tr>\n",
       "      <th>1</th>\n",
       "      <td>Data Analyst</td>\n",
       "      <td>Watu Credit</td>\n",
       "      <td>WATU is a focus-driven, customer-centric compa...</td>\n",
       "      <td>onsite</td>\n",
       "      <td>NaN</td>\n",
       "      <td>Nairobi County, Kenya</td>\n",
       "      <td>2022-11-01</td>\n",
       "      <td>Africa</td>\n",
       "      <td>Associate</td>\n",
       "      <td>Full-time</td>\n",
       "      <td>Analyst</td>\n",
       "    </tr>\n",
       "    <tr>\n",
       "      <th>2</th>\n",
       "      <td>Data Analyst (Credit Risk)</td>\n",
       "      <td>Kuda</td>\n",
       "      <td>Kuda is a fintech on a mission to make financi...</td>\n",
       "      <td>onsite</td>\n",
       "      <td>NaN</td>\n",
       "      <td>Cape Town, Western Cape, South Africa</td>\n",
       "      <td>2022-11-21</td>\n",
       "      <td>Africa</td>\n",
       "      <td>Not Applicable</td>\n",
       "      <td>Full-time</td>\n",
       "      <td>Analyst</td>\n",
       "    </tr>\n",
       "    <tr>\n",
       "      <th>3</th>\n",
       "      <td>Data Analyst</td>\n",
       "      <td>Watu Credit</td>\n",
       "      <td>Role: Data AnalystReporting to: Data Analytics...</td>\n",
       "      <td>onsite</td>\n",
       "      <td>NaN</td>\n",
       "      <td>Nairobi, Nairobi County, Kenya</td>\n",
       "      <td>2022-11-01</td>\n",
       "      <td>Africa</td>\n",
       "      <td>Mid-Senior level</td>\n",
       "      <td>Full-time</td>\n",
       "      <td>Information Technology</td>\n",
       "    </tr>\n",
       "    <tr>\n",
       "      <th>4</th>\n",
       "      <td>Data Analyst</td>\n",
       "      <td>Tata Consultancy Services</td>\n",
       "      <td>About Tata Consultancy ServicesTata Consultanc...</td>\n",
       "      <td>onsite</td>\n",
       "      <td>NaN</td>\n",
       "      <td>City of Johannesburg, Gauteng, South Africa</td>\n",
       "      <td>2022-10-27</td>\n",
       "      <td>Africa</td>\n",
       "      <td>Mid-Senior level</td>\n",
       "      <td>Contract</td>\n",
       "      <td>Information Technology</td>\n",
       "    </tr>\n",
       "  </tbody>\n",
       "</table>\n",
       "</div>"
      ],
      "text/plain": [
       "                        title                    company  \\\n",
       "0                Data Analyst                        NNC   \n",
       "1                Data Analyst                Watu Credit   \n",
       "2  Data Analyst (Credit Risk)                       Kuda   \n",
       "3                Data Analyst                Watu Credit   \n",
       "4                Data Analyst  Tata Consultancy Services   \n",
       "\n",
       "                                         description onsite_remote salary  \\\n",
       "0  We are looking for a passionate certified Data...        onsite    NaN   \n",
       "1  WATU is a focus-driven, customer-centric compa...        onsite    NaN   \n",
       "2  Kuda is a fintech on a mission to make financi...        onsite    NaN   \n",
       "3  Role: Data AnalystReporting to: Data Analytics...        onsite    NaN   \n",
       "4  About Tata Consultancy ServicesTata Consultanc...        onsite    NaN   \n",
       "\n",
       "                                      location posted_date  region  \\\n",
       "0                          Cairo, Cairo, Egypt  2022-11-18  Africa   \n",
       "1                        Nairobi County, Kenya  2022-11-01  Africa   \n",
       "2        Cape Town, Western Cape, South Africa  2022-11-21  Africa   \n",
       "3               Nairobi, Nairobi County, Kenya  2022-11-01  Africa   \n",
       "4  City of Johannesburg, Gauteng, South Africa  2022-10-27  Africa   \n",
       "\n",
       "              level   contract                   field  \n",
       "0          غير مطبق  دوام كامل                    محلل  \n",
       "1         Associate  Full-time                 Analyst  \n",
       "2    Not Applicable  Full-time                 Analyst  \n",
       "3  Mid-Senior level  Full-time  Information Technology  \n",
       "4  Mid-Senior level   Contract  Information Technology  "
      ]
     },
     "execution_count": 62,
     "metadata": {},
     "output_type": "execute_result"
    }
   ],
   "source": [
    "df.head()"
   ]
  },
  {
   "cell_type": "markdown",
   "id": "51558931",
   "metadata": {},
   "source": [
    "### Sorting the date column"
   ]
  },
  {
   "cell_type": "code",
   "execution_count": 63,
   "id": "f75a81ee",
   "metadata": {},
   "outputs": [],
   "source": [
    "# Converting the posted date to date format\n",
    "df['posted_date'] = pd.to_datetime(df['posted_date'])"
   ]
  },
  {
   "cell_type": "code",
   "execution_count": 64,
   "id": "9a76def0",
   "metadata": {},
   "outputs": [
    {
     "name": "stderr",
     "output_type": "stream",
     "text": [
      "C:\\Users\\mina.aziz\\AppData\\Local\\Temp\\ipykernel_21628\\180065624.py:3: SettingWithCopyWarning: \n",
      "A value is trying to be set on a copy of a slice from a DataFrame.\n",
      "Try using .loc[row_indexer,col_indexer] = value instead\n",
      "\n",
      "See the caveats in the documentation: https://pandas.pydata.org/pandas-docs/stable/user_guide/indexing.html#returning-a-view-versus-a-copy\n",
      "  dated_data['year'] = dated_data['posted_date'].dt.strftime('%Y')\n",
      "C:\\Users\\mina.aziz\\AppData\\Local\\Temp\\ipykernel_21628\\180065624.py:4: SettingWithCopyWarning: \n",
      "A value is trying to be set on a copy of a slice from a DataFrame.\n",
      "Try using .loc[row_indexer,col_indexer] = value instead\n",
      "\n",
      "See the caveats in the documentation: https://pandas.pydata.org/pandas-docs/stable/user_guide/indexing.html#returning-a-view-versus-a-copy\n",
      "  dated_data['month'] = dated_data['posted_date'].dt.strftime('%m')\n",
      "C:\\Users\\mina.aziz\\AppData\\Local\\Temp\\ipykernel_21628\\180065624.py:5: SettingWithCopyWarning: \n",
      "A value is trying to be set on a copy of a slice from a DataFrame\n",
      "\n",
      "See the caveats in the documentation: https://pandas.pydata.org/pandas-docs/stable/user_guide/indexing.html#returning-a-view-versus-a-copy\n",
      "  dated_data.drop('title',axis=1,inplace=True)\n"
     ]
    }
   ],
   "source": [
    "# Creating seperate dataframe for dates for further analysis\n",
    "dated_data = df[['posted_date','title']]\n",
    "dated_data['year'] = dated_data['posted_date'].dt.strftime('%Y')\n",
    "dated_data['month'] = dated_data['posted_date'].dt.strftime('%m')\n",
    "dated_data.drop('title',axis=1,inplace=True)"
   ]
  },
  {
   "cell_type": "code",
   "execution_count": 65,
   "id": "0894082d",
   "metadata": {},
   "outputs": [
    {
     "data": {
      "text/html": [
       "<div>\n",
       "<style scoped>\n",
       "    .dataframe tbody tr th:only-of-type {\n",
       "        vertical-align: middle;\n",
       "    }\n",
       "\n",
       "    .dataframe tbody tr th {\n",
       "        vertical-align: top;\n",
       "    }\n",
       "\n",
       "    .dataframe thead th {\n",
       "        text-align: right;\n",
       "    }\n",
       "</style>\n",
       "<table border=\"1\" class=\"dataframe\">\n",
       "  <thead>\n",
       "    <tr style=\"text-align: right;\">\n",
       "      <th></th>\n",
       "      <th>year</th>\n",
       "      <th>month</th>\n",
       "      <th>posted_date</th>\n",
       "    </tr>\n",
       "  </thead>\n",
       "  <tbody>\n",
       "    <tr>\n",
       "      <th>0</th>\n",
       "      <td>2022</td>\n",
       "      <td>05</td>\n",
       "      <td>1</td>\n",
       "    </tr>\n",
       "    <tr>\n",
       "      <th>1</th>\n",
       "      <td>2022</td>\n",
       "      <td>07</td>\n",
       "      <td>2</td>\n",
       "    </tr>\n",
       "    <tr>\n",
       "      <th>2</th>\n",
       "      <td>2022</td>\n",
       "      <td>08</td>\n",
       "      <td>4</td>\n",
       "    </tr>\n",
       "    <tr>\n",
       "      <th>3</th>\n",
       "      <td>2022</td>\n",
       "      <td>09</td>\n",
       "      <td>77</td>\n",
       "    </tr>\n",
       "    <tr>\n",
       "      <th>4</th>\n",
       "      <td>2022</td>\n",
       "      <td>10</td>\n",
       "      <td>1865</td>\n",
       "    </tr>\n",
       "    <tr>\n",
       "      <th>5</th>\n",
       "      <td>2022</td>\n",
       "      <td>11</td>\n",
       "      <td>6541</td>\n",
       "    </tr>\n",
       "  </tbody>\n",
       "</table>\n",
       "</div>"
      ],
      "text/plain": [
       "   year month  posted_date\n",
       "0  2022    05            1\n",
       "1  2022    07            2\n",
       "2  2022    08            4\n",
       "3  2022    09           77\n",
       "4  2022    10         1865\n",
       "5  2022    11         6541"
      ]
     },
     "execution_count": 65,
     "metadata": {},
     "output_type": "execute_result"
    }
   ],
   "source": [
    "# The data seams to be not complete and has a very short scope\n",
    "dated_data.groupby(['year','month']).count().reset_index()"
   ]
  },
  {
   "cell_type": "markdown",
   "id": "fc9be9fa",
   "metadata": {},
   "source": [
    "### Descriptive Analysis"
   ]
  },
  {
   "cell_type": "code",
   "execution_count": 66,
   "id": "fb396632",
   "metadata": {},
   "outputs": [
    {
     "data": {
      "text/plain": [
       "(array([0, 1, 2, 3, 4, 5, 6, 7, 8, 9]),\n",
       " [Text(0, 0, 'Data Analyst'),\n",
       "  Text(1, 0, 'Junior Data Analyst'),\n",
       "  Text(2, 0, 'Senior Data Analyst'),\n",
       "  Text(3, 0, 'Remote Data Analyst Jobs'),\n",
       "  Text(4, 0, 'Data Analyst - Recent Graduate'),\n",
       "  Text(5, 0, 'Data Engineer'),\n",
       "  Text(6, 0, 'Data Analyst, Forward Kitchens (Remote) - $60,000/year USD'),\n",
       "  Text(7, 0, 'Data Analyst/Developer'),\n",
       "  Text(8, 0, 'Commercial Data Analyst'),\n",
       "  Text(9, 0, 'Data Analyst, Trilogy (Remote) - $60,000/year USD')])"
      ]
     },
     "execution_count": 66,
     "metadata": {},
     "output_type": "execute_result"
    },
    {
     "data": {
      "image/png": "[encoded data removed]",
      "text/plain": [
       "<Figure size 1440x432 with 1 Axes>"
      ]
     },
     "metadata": {
      "needs_background": "light"
     },
     "output_type": "display_data"
    }
   ],
   "source": [
    "# top 10 posted job title posted. Data Analyst is the most title used### Loading packages and files\n",
    "top_10 = df.groupby('title').count().reset_index()[['title','company']].sort_values('company',ascending=False).head(10)\n",
    "top_10.columns = ['title','count']\n",
    "plt.figure(figsize=(20,6))\n",
    "sns.barplot(x='title',y='count',data=top_10)\n",
    "plt.xticks(rotation=90)"
   ]
  },
  {
   "cell_type": "code",
   "execution_count": 67,
   "id": "5213c354",
   "metadata": {},
   "outputs": [
    {
     "data": {
      "text/plain": [
       "(array([0, 1, 2, 3, 4, 5, 6, 7, 8, 9]),\n",
       " [Text(0, 0, 'Toronto, Ontario, Canada'),\n",
       "  Text(1, 0, 'United States'),\n",
       "  Text(2, 0, 'Cape Town, Western Cape, South Africa'),\n",
       "  Text(3, 0, 'Mississauga, Ontario, Canada'),\n",
       "  Text(4, 0, 'Canada'),\n",
       "  Text(5, 0, 'Johannesburg, Gauteng, South Africa'),\n",
       "  Text(6, 0, 'South East, South-East District, Botswana'),\n",
       "  Text(7, 0, 'Lagos, Lagos State, Nigeria'),\n",
       "  Text(8, 0, 'City of Johannesburg, Gauteng, South Africa'),\n",
       "  Text(9, 0, 'New York City Metropolitan Area')])"
      ]
     },
     "execution_count": 67,
     "metadata": {},
     "output_type": "execute_result"
    },
    {
     "data": {
      "image/png": "[encoded data removed]",
      "text/plain": [
       "<Figure size 1440x432 with 1 Axes>"
      ]
     },
     "metadata": {
      "needs_background": "light"
     },
     "output_type": "display_data"
    }
   ],
   "source": [
    "# top 10 locations posted jobs. Toronto, Ontario, Canada with the most posted jobs\n",
    "top_places = df.groupby('location').count().reset_index()[['location','company']].sort_values('company',ascending=False).head(10)\n",
    "top_places.columns = ['location','count']\n",
    "plt.figure(figsize=(20,6))\n",
    "sns.barplot(x='location',y='count',data=top_places)\n",
    "plt.xticks(rotation=90)"
   ]
  },
  {
   "cell_type": "code",
   "execution_count": 68,
   "id": "8aab2859",
   "metadata": {},
   "outputs": [],
   "source": [
    "#mapping the data to have same words\n",
    "df['contract'] = df['contract'].map({'دوام كامل':'Full-time','Contract':'Full-time','Temporary':'Temporary',\n",
    "                                     'Internship':'Internship','Other':'Other'})"
   ]
  },
  {
   "cell_type": "code",
   "execution_count": 69,
   "id": "848a7f54",
   "metadata": {},
   "outputs": [
    {
     "data": {
      "text/plain": [
       "array(['Full-time', nan, 'Temporary', 'Internship', 'Other'], dtype=object)"
      ]
     },
     "execution_count": 69,
     "metadata": {},
     "output_type": "execute_result"
    }
   ],
   "source": [
    "df['contract'].unique()"
   ]
  },
  {
   "cell_type": "code",
   "execution_count": 70,
   "id": "2ac255e7",
   "metadata": {},
   "outputs": [
    {
     "data": {
      "text/html": [
       "<div>\n",
       "<style scoped>\n",
       "    .dataframe tbody tr th:only-of-type {\n",
       "        vertical-align: middle;\n",
       "    }\n",
       "\n",
       "    .dataframe tbody tr th {\n",
       "        vertical-align: top;\n",
       "    }\n",
       "\n",
       "    .dataframe thead th {\n",
       "        text-align: right;\n",
       "    }\n",
       "</style>\n",
       "<table border=\"1\" class=\"dataframe\">\n",
       "  <thead>\n",
       "    <tr style=\"text-align: right;\">\n",
       "      <th></th>\n",
       "      <th>contract</th>\n",
       "      <th>count</th>\n",
       "    </tr>\n",
       "  </thead>\n",
       "  <tbody>\n",
       "    <tr>\n",
       "      <th>0</th>\n",
       "      <td>Full-time</td>\n",
       "      <td>1410</td>\n",
       "    </tr>\n",
       "    <tr>\n",
       "      <th>3</th>\n",
       "      <td>Temporary</td>\n",
       "      <td>76</td>\n",
       "    </tr>\n",
       "    <tr>\n",
       "      <th>2</th>\n",
       "      <td>Other</td>\n",
       "      <td>39</td>\n",
       "    </tr>\n",
       "    <tr>\n",
       "      <th>1</th>\n",
       "      <td>Internship</td>\n",
       "      <td>2</td>\n",
       "    </tr>\n",
       "  </tbody>\n",
       "</table>\n",
       "</div>"
      ],
      "text/plain": [
       "     contract  count\n",
       "0   Full-time   1410\n",
       "3   Temporary     76\n",
       "2       Other     39\n",
       "1  Internship      2"
      ]
     },
     "execution_count": 70,
     "metadata": {},
     "output_type": "execute_result"
    },
    {
     "data": {
      "image/png": "[encoded data removed]",
      "text/plain": [
       "<Figure size 1440x432 with 1 Axes>"
      ]
     },
     "metadata": {
      "needs_background": "light"
     },
     "output_type": "display_data"
    }
   ],
   "source": [
    "# count by the contract type. Showing the full time is by far the most jobs posted\n",
    "contract_type = df.groupby('contract').count().reset_index()[['contract','company']].sort_values('company',ascending=False)\n",
    "contract_type.columns = ['contract','count']\n",
    "plt.figure(figsize=(20,6))\n",
    "sns.barplot(x='contract',y='count',data=contract_type)\n",
    "plt.xticks(rotation=90)\n",
    "contract_type"
   ]
  },
  {
   "cell_type": "code",
   "execution_count": 71,
   "id": "2c1c4282",
   "metadata": {},
   "outputs": [
    {
     "data": {
      "text/html": [
       "<div>\n",
       "<style scoped>\n",
       "    .dataframe tbody tr th:only-of-type {\n",
       "        vertical-align: middle;\n",
       "    }\n",
       "\n",
       "    .dataframe tbody tr th {\n",
       "        vertical-align: top;\n",
       "    }\n",
       "\n",
       "    .dataframe thead th {\n",
       "        text-align: right;\n",
       "    }\n",
       "</style>\n",
       "<table border=\"1\" class=\"dataframe\">\n",
       "  <thead>\n",
       "    <tr style=\"text-align: right;\">\n",
       "      <th></th>\n",
       "      <th>company</th>\n",
       "      <th>location</th>\n",
       "    </tr>\n",
       "  </thead>\n",
       "  <tbody>\n",
       "    <tr>\n",
       "      <th>259</th>\n",
       "      <td>PayPal</td>\n",
       "      <td>499</td>\n",
       "    </tr>\n",
       "    <tr>\n",
       "      <th>355</th>\n",
       "      <td>Turing.com</td>\n",
       "      <td>211</td>\n",
       "    </tr>\n",
       "    <tr>\n",
       "      <th>90</th>\n",
       "      <td>Crossover</td>\n",
       "      <td>157</td>\n",
       "    </tr>\n",
       "    <tr>\n",
       "      <th>266</th>\n",
       "      <td>Progressive Edge</td>\n",
       "      <td>146</td>\n",
       "    </tr>\n",
       "    <tr>\n",
       "      <th>295</th>\n",
       "      <td>SSENSE</td>\n",
       "      <td>133</td>\n",
       "    </tr>\n",
       "    <tr>\n",
       "      <th>120</th>\n",
       "      <td>Experian</td>\n",
       "      <td>114</td>\n",
       "    </tr>\n",
       "    <tr>\n",
       "      <th>318</th>\n",
       "      <td>Synechron</td>\n",
       "      <td>110</td>\n",
       "    </tr>\n",
       "    <tr>\n",
       "      <th>171</th>\n",
       "      <td>Insight Global</td>\n",
       "      <td>106</td>\n",
       "    </tr>\n",
       "    <tr>\n",
       "      <th>108</th>\n",
       "      <td>Diverse Lynx</td>\n",
       "      <td>101</td>\n",
       "    </tr>\n",
       "    <tr>\n",
       "      <th>76</th>\n",
       "      <td>Citi</td>\n",
       "      <td>76</td>\n",
       "    </tr>\n",
       "  </tbody>\n",
       "</table>\n",
       "</div>"
      ],
      "text/plain": [
       "              company  location\n",
       "259            PayPal       499\n",
       "355        Turing.com       211\n",
       "90          Crossover       157\n",
       "266  Progressive Edge       146\n",
       "295            SSENSE       133\n",
       "120          Experian       114\n",
       "318         Synechron       110\n",
       "171    Insight Global       106\n",
       "108      Diverse Lynx       101\n",
       "76               Citi        76"
      ]
     },
     "execution_count": 71,
     "metadata": {},
     "output_type": "execute_result"
    }
   ],
   "source": [
    "# top 10 company with the number of posted jobs for each of them. Showing paypal has the most jobs posted by far difference\n",
    "df[['company','location']].groupby('company').count().reset_index().sort_values('location',ascending=False).head(10)"
   ]
  },
  {
   "cell_type": "code",
   "execution_count": 72,
   "id": "d54a472c",
   "metadata": {
    "scrolled": true
   },
   "outputs": [
    {
     "data": {
      "text/html": [
       "<div>\n",
       "<style scoped>\n",
       "    .dataframe tbody tr th:only-of-type {\n",
       "        vertical-align: middle;\n",
       "    }\n",
       "\n",
       "    .dataframe tbody tr th {\n",
       "        vertical-align: top;\n",
       "    }\n",
       "\n",
       "    .dataframe thead th {\n",
       "        text-align: right;\n",
       "    }\n",
       "</style>\n",
       "<table border=\"1\" class=\"dataframe\">\n",
       "  <thead>\n",
       "    <tr style=\"text-align: right;\">\n",
       "      <th></th>\n",
       "      <th>onsite_remote</th>\n",
       "      <th>location</th>\n",
       "    </tr>\n",
       "  </thead>\n",
       "  <tbody>\n",
       "    <tr>\n",
       "      <th>1</th>\n",
       "      <td>onsite</td>\n",
       "      <td>2897</td>\n",
       "    </tr>\n",
       "    <tr>\n",
       "      <th>0</th>\n",
       "      <td>hybrid</td>\n",
       "      <td>2825</td>\n",
       "    </tr>\n",
       "    <tr>\n",
       "      <th>2</th>\n",
       "      <td>remote</td>\n",
       "      <td>2768</td>\n",
       "    </tr>\n",
       "  </tbody>\n",
       "</table>\n",
       "</div>"
      ],
      "text/plain": [
       "  onsite_remote  location\n",
       "1        onsite      2897\n",
       "0        hybrid      2825\n",
       "2        remote      2768"
      ]
     },
     "execution_count": 72,
     "metadata": {},
     "output_type": "execute_result"
    }
   ],
   "source": [
    "# count of job remote aspect posted. Showing that there are almost equal figures for the 3 types\n",
    "df[['onsite_remote','location']].groupby('onsite_remote').count().reset_index().sort_values('location',ascending=False)"
   ]
  },
  {
   "cell_type": "code",
   "execution_count": 78,
   "id": "5450e995",
   "metadata": {},
   "outputs": [
    {
     "data": {
      "text/plain": [
       "array(['محلل', 'Analyst', 'Information Technology',\n",
       "       'تطوير الأعمال التجارية و تكنولوجيا المعلومات',\n",
       "       'تكنولوجيا المعلومات', 'Supply Chain',\n",
       "       'Information Technology and Analyst', 'التوزيع و سلسلة التوريدات',\n",
       "       'الهندسة', 'الهندسة و تكنولوجيا المعلومات',\n",
       "       'Research, Analyst, and Information Technology', 'الموارد البشرية',\n",
       "       'غير ذلك', 'Business Development and Sales', 'Other',\n",
       "       'Information Technology, Engineering, and Research',\n",
       "       'Management, Analyst, and Human Resources',\n",
       "       'Engineering, Information Technology, and Research',\n",
       "       'Information Technology and Engineering',\n",
       "       'Education, Science, and Health Care Provider',\n",
       "       'Research, Science, and Analyst', 'Consulting',\n",
       "       'Marketing and Sales', 'تكنولوجيا المعلومات و تكنولوجيا المعلومات',\n",
       "       'Accounting/Auditing', 'Analyst, Science, and Strategy/Planning',\n",
       "       'Information Technology and Other',\n",
       "       'Research, Design, and Analyst',\n",
       "       'Information Technology and Consulting',\n",
       "       'Business Development and Information Technology',\n",
       "       'Human Resources', 'Finance', 'Information Technology and Finance',\n",
       "       'Finance and Information Technology',\n",
       "       'Analyst, Information Technology, and Project Management',\n",
       "       'Analyst, Finance, and Strategy/Planning',\n",
       "       'Strategy/Planning, Advertising, and Marketing',\n",
       "       'Analyst, Information Technology, and Research',\n",
       "       'Analyst, Information Technology, and Engineering',\n",
       "       'Information Technology, Analyst, and Consulting',\n",
       "       'Information Technology and General Business',\n",
       "       'Information Technology, Analyst, and Other',\n",
       "       'Project Management, Analyst, and Research',\n",
       "       'Analyst and Information Technology',\n",
       "       'Information Technology, Analyst, and Engineering',\n",
       "       'Consulting and Analyst', 'Sales', 'Engineering',\n",
       "       'Administrative and Customer Service',\n",
       "       'Health Care Provider and Information Technology',\n",
       "       'Analyst and Marketing', 'Analyst and Strategy/Planning',\n",
       "       'Analyst, Marketing, and Information Technology',\n",
       "       'Information Technology, Analyst, and Marketing',\n",
       "       'Information Technology, Marketing, and Analyst',\n",
       "       'Analyst, Finance, and General Business',\n",
       "       'Information Technology, Public Relations, and Analyst',\n",
       "       'Advertising, Business Development, and Information Technology',\n",
       "       'Sales and Analyst',\n",
       "       'Information Technology, Analyst, and Education',\n",
       "       'Advertising, Production, and Design',\n",
       "       'Strategy/Planning, Analyst, and Information Technology',\n",
       "       'Consulting, General Business, and Strategy/Planning',\n",
       "       'Analyst, Information Technology, and Marketing',\n",
       "       'Marketing, Public Relations, and Writing/Editing',\n",
       "       'Information Technology and Marketing',\n",
       "       'Information Technology and Administrative',\n",
       "       'Project Management and Analyst',\n",
       "       'Engineering and Information Technology',\n",
       "       'Administrative and Research',\n",
       "       'Engineering, Information Technology, and Analyst',\n",
       "       'Consulting, Information Technology, and Project Management',\n",
       "       'Information Technology, Analyst, and Business Development',\n",
       "       'Marketing, Advertising, and Analyst', 'Education',\n",
       "       'Information Technology, Consulting, and Analyst',\n",
       "       'Human Resources, Sales, and Information Technology',\n",
       "       'Analyst and Finance', 'Administrative',\n",
       "       'Product Management and Analyst',\n",
       "       'Information Technology, Analyst, and Research',\n",
       "       'Product Management',\n",
       "       'Information Technology, Engineering, and Consulting',\n",
       "       'Business Development, Information Technology, and Research',\n",
       "       'Customer Service',\n",
       "       'Analyst, Research, and Information Technology',\n",
       "       'Information Technology, Strategy/Planning, and Analyst',\n",
       "       'Administrative, Business Development, and Consulting',\n",
       "       'Information Technology, Engineering, and Analyst',\n",
       "       'Marketing and Strategy/Planning',\n",
       "       'Information Technology, Finance, and Sales',\n",
       "       'Information Technology and Science', 'Administrative and Legal',\n",
       "       'Distribution, Administrative, and Customer Service',\n",
       "       'Business Development, Sales, and Advertising', nan], dtype=object)"
      ]
     },
     "execution_count": 78,
     "metadata": {},
     "output_type": "execute_result"
    }
   ],
   "source": [
    "df['field'].unique()"
   ]
  },
  {
   "cell_type": "code",
   "execution_count": 83,
   "id": "b8039a69",
   "metadata": {},
   "outputs": [],
   "source": [
    "#replacing the data to have same words\n",
    "df['field'] = df['field'].str.replace('محلل','Analyst')\n",
    "df['field'] = df['field'].str.replace('تطوير الأعمال التجارية و تكنولوجيا المعلومات','Information Technology, Strategy/Planning')\n",
    "df['field'] = df['field'].str.replace('التوزيع و سلسلة التوريدات','Distribution, Chain Imports')\n",
    "df['field'] = df['field'].str.replace('الهندسة و تكنولوجيا المعلومات','Engineering, Information Technology')\n",
    "df['field'] = df['field'].str.replace('الهندسة','Engineering')\n",
    "df['field'] = df['field'].str.replace('الموارد البشرية','Human Resources')\n",
    "df['field'] = df['field'].str.replace('تكنولوجيا المعلومات','Information Technology')\n",
    "df['field'] = df['field'].str.replace('غير ذلك','Information Technology')"
   ]
  },
  {
   "cell_type": "code",
   "execution_count": 96,
   "id": "feebb9d3",
   "metadata": {},
   "outputs": [
    {
     "data": {
      "text/html": [
       "<div>\n",
       "<style scoped>\n",
       "    .dataframe tbody tr th:only-of-type {\n",
       "        vertical-align: middle;\n",
       "    }\n",
       "\n",
       "    .dataframe tbody tr th {\n",
       "        vertical-align: top;\n",
       "    }\n",
       "\n",
       "    .dataframe thead th {\n",
       "        text-align: right;\n",
       "    }\n",
       "</style>\n",
       "<table border=\"1\" class=\"dataframe\">\n",
       "  <thead>\n",
       "    <tr style=\"text-align: right;\">\n",
       "      <th></th>\n",
       "      <th>field</th>\n",
       "      <th>count</th>\n",
       "      <th>per</th>\n",
       "    </tr>\n",
       "  </thead>\n",
       "  <tbody>\n",
       "    <tr>\n",
       "      <th>0</th>\n",
       "      <td>Information Technology</td>\n",
       "      <td>5093</td>\n",
       "      <td>79.12</td>\n",
       "    </tr>\n",
       "    <tr>\n",
       "      <th>1</th>\n",
       "      <td>Analyst</td>\n",
       "      <td>449</td>\n",
       "      <td>6.98</td>\n",
       "    </tr>\n",
       "    <tr>\n",
       "      <th>2</th>\n",
       "      <td>Information Technology and Analyst</td>\n",
       "      <td>246</td>\n",
       "      <td>3.82</td>\n",
       "    </tr>\n",
       "    <tr>\n",
       "      <th>3</th>\n",
       "      <td>Finance</td>\n",
       "      <td>153</td>\n",
       "      <td>2.38</td>\n",
       "    </tr>\n",
       "    <tr>\n",
       "      <th>4</th>\n",
       "      <td>Strategy/Planning, Analyst, and Information Te...</td>\n",
       "      <td>104</td>\n",
       "      <td>1.62</td>\n",
       "    </tr>\n",
       "    <tr>\n",
       "      <th>5</th>\n",
       "      <td>Engineering</td>\n",
       "      <td>93</td>\n",
       "      <td>1.44</td>\n",
       "    </tr>\n",
       "    <tr>\n",
       "      <th>6</th>\n",
       "      <td>Other</td>\n",
       "      <td>79</td>\n",
       "      <td>1.23</td>\n",
       "    </tr>\n",
       "    <tr>\n",
       "      <th>7</th>\n",
       "      <td>Information Technology, Engineering, and Research</td>\n",
       "      <td>75</td>\n",
       "      <td>1.17</td>\n",
       "    </tr>\n",
       "    <tr>\n",
       "      <th>8</th>\n",
       "      <td>Engineering, Information Technology, and Research</td>\n",
       "      <td>74</td>\n",
       "      <td>1.15</td>\n",
       "    </tr>\n",
       "    <tr>\n",
       "      <th>9</th>\n",
       "      <td>Information Technology and Engineering</td>\n",
       "      <td>71</td>\n",
       "      <td>1.10</td>\n",
       "    </tr>\n",
       "  </tbody>\n",
       "</table>\n",
       "</div>"
      ],
      "text/plain": [
       "                                               field  count    per\n",
       "0                             Information Technology   5093  79.12\n",
       "1                                            Analyst    449   6.98\n",
       "2                 Information Technology and Analyst    246   3.82\n",
       "3                                            Finance    153   2.38\n",
       "4  Strategy/Planning, Analyst, and Information Te...    104   1.62\n",
       "5                                        Engineering     93   1.44\n",
       "6                                              Other     79   1.23\n",
       "7  Information Technology, Engineering, and Research     75   1.17\n",
       "8  Engineering, Information Technology, and Research     74   1.15\n",
       "9             Information Technology and Engineering     71   1.10"
      ]
     },
     "execution_count": 96,
     "metadata": {},
     "output_type": "execute_result"
    },
    {
     "data": {
      "image/png": "[encoded data removed]",
      "text/plain": [
       "<Figure size 1440x432 with 1 Axes>"
      ]
     },
     "metadata": {},
     "output_type": "display_data"
    }
   ],
   "source": [
    "#most posted fields. Mostly the post is part of the IT department\n",
    "field_top10 = df[['field','title']].groupby('field').count().sort_values('title',ascending=False).reset_index().head(10)\n",
    "field_top10.columns = ['field', 'count']\n",
    "field_top10['per'] = round((field_top10['count']/field_top10['count'].sum())*100,2)\n",
    "plt.figure(figsize=(20,6))\n",
    "plt.pie(field_top10['count'],labels=field_top10['field'])\n",
    "plt.xticks(rotation=90)\n",
    "field_top10"
   ]
  }
 ],
 "metadata": {
  "kernelspec": {
   "display_name": "Python 3 (ipykernel)",
   "language": "python",
   "name": "python3"
  },
  "language_info": {
   "codemirror_mode": {
    "name": "ipython",
    "version": 3
   },
   "file_extension": ".py",
   "mimetype": "text/x-python",
   "name": "python",
   "nbconvert_exporter": "python",
   "pygments_lexer": "ipython3",
   "version": "3.9.12"
  }
 },
 "nbformat": 4,
 "nbformat_minor": 5
}
